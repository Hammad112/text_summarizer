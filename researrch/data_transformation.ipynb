{
 "cells": [
  {
   "cell_type": "code",
   "execution_count": 11,
   "metadata": {},
   "outputs": [],
   "source": [
    "import os"
   ]
  },
  {
   "cell_type": "code",
   "execution_count": 12,
   "metadata": {},
   "outputs": [
    {
     "data": {
      "text/plain": [
       "'d:\\\\Text Sumarizer'"
      ]
     },
     "execution_count": 12,
     "metadata": {},
     "output_type": "execute_result"
    }
   ],
   "source": [
    "%pwd\n",
    "# ## Text Sumarizer\n",
    "# os.chdir('d:\\\\Text Sumarizer')"
   ]
  },
  {
   "cell_type": "code",
   "execution_count": 31,
   "metadata": {},
   "outputs": [],
   "source": [
    "from dataclasses import dataclass\n",
    "from pathlib import Path\n",
    "\n",
    "@dataclass\n",
    "class DataTransformationConfig:\n",
    "    root_dir: Path\n",
    "    data_path: Path\n",
    "    tokenizer_name: str"
   ]
  },
  {
   "cell_type": "code",
   "execution_count": 32,
   "metadata": {},
   "outputs": [],
   "source": [
    "from src.text_summarizer.constants import *\n",
    "from src.text_summarizer.utils.common import read_yaml, create_directories"
   ]
  },
  {
   "cell_type": "code",
   "execution_count": 33,
   "metadata": {},
   "outputs": [],
   "source": [
    "class ConfigurationManager:\n",
    "    def __init__(\n",
    "        self,\n",
    "        config_filepath: str = CONFIG_PATH,\n",
    "        params_filepath: str = PARAMS_PATH,\n",
    "    ):\n",
    "        self.config = read_yaml(config_filepath)\n",
    "        self.params = read_yaml(params_filepath)\n",
    "\n",
    "        create_directories([self.config.artifacts_root])\n",
    "\n",
    "\n",
    "    def get_data_transformation_config(self) -> DataTransformationConfig:\n",
    "        config = self.config.data_transformation\n",
    "        create_directories([config.root_dir])  # Ensure directory exists\n",
    "\n",
    "        data_transformation_config = DataTransformationConfig(\n",
    "            root_dir=config.root_dir,\n",
    "            data_path=config.data_path,\n",
    "            tokenizer_name=config.tokenizer_name\n",
    "        )\n",
    "\n",
    "        return data_transformation_config"
   ]
  },
  {
   "cell_type": "code",
   "execution_count": 34,
   "metadata": {},
   "outputs": [],
   "source": [
    "import os\n",
    "from src.text_summarizer.logging import logging\n",
    "from transformers import AutoTokenizer\n",
    "from datasets import load_dataset, load_from_disk"
   ]
  },
  {
   "cell_type": "code",
   "execution_count": 39,
   "metadata": {},
   "outputs": [],
   "source": [
    "import os\n",
    "from transformers import AutoTokenizer\n",
    "from datasets import load_from_disk\n",
    "\n",
    "class DataTransformation:\n",
    "    def __init__(self, config):\n",
    "        self.config = config\n",
    "        self.tokenizer = AutoTokenizer.from_pretrained(config.tokenizer_name)\n",
    "\n",
    "    ## Convert example to feature\n",
    "    def convert_examples_to_features(self, example_batch):\n",
    "        ## Input token IDs\n",
    "        input_encodings = self.tokenizer(\n",
    "            example_batch['dialogue'], max_length=1024, truncation=True, padding=\"max_length\"\n",
    "        )\n",
    "\n",
    "        ## Target token IDs (using text_target to avoid deprecation warning)\n",
    "        target_encodings = self.tokenizer(\n",
    "            text_target=example_batch['summary'], max_length=128, truncation=True, padding=\"max_length\"\n",
    "        )\n",
    "\n",
    "        return {\n",
    "            'input_ids': input_encodings['input_ids'],\n",
    "            'attention_mask': input_encodings['attention_mask'],\n",
    "            'labels': target_encodings['input_ids']\n",
    "        }\n",
    "    \n",
    "    def convert(self):\n",
    "        ## Ensure dataset path exists\n",
    "        if not os.path.exists(self.config.data_path):\n",
    "            raise FileNotFoundError(f\"Dataset path {self.config.data_path} not found. Ensure the dataset is correctly saved.\")\n",
    "\n",
    "        ## Load dataset\n",
    "        dataset_samsum = load_from_disk(self.config.data_path)\n",
    "        \n",
    "        ## Convert examples to features\n",
    "        dataset_samsum_pt = dataset_samsum.map(self.convert_examples_to_features, batched=True)\n",
    "\n",
    "        ## Ensure root directory exists before saving\n",
    "        os.makedirs(self.config.root_dir, exist_ok=True)\n",
    "\n",
    "        ## Save processed dataset\n",
    "        dataset_samsum_pt.save_to_disk(os.path.join(self.config.root_dir, \"samsum_dataset\"))\n",
    "\n"
   ]
  },
  {
   "cell_type": "code",
   "execution_count": 40,
   "metadata": {},
   "outputs": [
    {
     "name": "stdout",
     "output_type": "stream",
     "text": [
      "[2025-03-12 02:15:09,823: INFO: common]: yaml file: config\\config.yaml loaded successfully\n",
      "[2025-03-12 02:15:09,827: INFO: common]: yaml file: params.yaml loaded successfully\n",
      "[2025-03-12 02:15:09,830: INFO: common]: created directory at: Artifacts/data_ingestion\n",
      "[2025-03-12 02:15:09,833: INFO: common]: created directory at: Artifacts/data_transformation\n"
     ]
    },
    {
     "name": "stderr",
     "output_type": "stream",
     "text": [
      "Map: 100%|██████████| 14732/14732 [00:18<00:00, 789.59 examples/s]\n",
      "Map: 100%|██████████| 819/819 [00:00<00:00, 875.56 examples/s]\n",
      "Map: 100%|██████████| 818/818 [00:01<00:00, 816.94 examples/s]\n",
      "Saving the dataset (1/1 shards): 100%|██████████| 14732/14732 [00:00<00:00, 105699.93 examples/s]\n",
      "Saving the dataset (1/1 shards): 100%|██████████| 819/819 [00:00<00:00, 25664.45 examples/s]\n",
      "Saving the dataset (1/1 shards): 100%|██████████| 818/818 [00:00<00:00, 20221.61 examples/s]\n"
     ]
    }
   ],
   "source": [
    "config = ConfigurationManager()\n",
    "data_transformation_config = config.get_data_transformation_config()\n",
    "\n",
    "# Fix: Use DataTransformation instead of DataTransformationConfig\n",
    "data_transformation = DataTransformation(config=data_transformation_config)\n",
    "data_transformation.convert()\n"
   ]
  },
  {
   "cell_type": "code",
   "execution_count": null,
   "metadata": {},
   "outputs": [],
   "source": []
  },
  {
   "cell_type": "code",
   "execution_count": null,
   "metadata": {},
   "outputs": [],
   "source": []
  }
 ],
 "metadata": {
  "kernelspec": {
   "display_name": "env",
   "language": "python",
   "name": "python3"
  },
  "language_info": {
   "codemirror_mode": {
    "name": "ipython",
    "version": 3
   },
   "file_extension": ".py",
   "mimetype": "text/x-python",
   "name": "python",
   "nbconvert_exporter": "python",
   "pygments_lexer": "ipython3",
   "version": "3.12.5"
  }
 },
 "nbformat": 4,
 "nbformat_minor": 2
}
